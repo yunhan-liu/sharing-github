{
 "cells": [
  {
   "cell_type": "markdown",
   "id": "1d79d610",
   "metadata": {},
   "source": [
    "Logistic Regression \n",
    "\n",
    "code book: \n",
    "\n",
    "breastcancerper100TH: Number of new cases of breast cancer in 100,000 female residents during the certain year\n",
    "\n",
    "lifeexpectancy: The average number of years a newborn child would live if current mortality patterns were to stay the same.\n",
    "\n",
    "alcconsumption: Recorded and estimated average alcohol consumption, adult (15+) per capita consumption in litres pure alcohol\n",
    "\n",
    "Assumption: the association between breast cancer for female and life expectancy"
   ]
  },
  {
   "cell_type": "code",
   "execution_count": 1,
   "id": "6ec3099c",
   "metadata": {},
   "outputs": [],
   "source": [
    "import numpy as np\n",
    "import pandas as pd\n",
    "import statsmodels.formula.api as smf\n",
    "import seaborn as sns\n",
    "import statsmodels.api as sm\n",
    "import matplotlib.pyplot as plt"
   ]
  },
  {
   "cell_type": "code",
   "execution_count": 2,
   "id": "f97663bb",
   "metadata": {},
   "outputs": [],
   "source": [
    "# bug fix for display formats to avoid run time errors\n",
    "pd.set_option('display.float_format', lambda x:'%.2f'%x)"
   ]
  },
  {
   "cell_type": "code",
   "execution_count": 3,
   "id": "3b8a59ce",
   "metadata": {},
   "outputs": [],
   "source": [
    "df = pd.read_csv('gapminder.csv')"
   ]
  },
  {
   "cell_type": "code",
   "execution_count": 4,
   "id": "592fcd75",
   "metadata": {},
   "outputs": [
    {
     "data": {
      "text/html": [
       "<div>\n",
       "<style scoped>\n",
       "    .dataframe tbody tr th:only-of-type {\n",
       "        vertical-align: middle;\n",
       "    }\n",
       "\n",
       "    .dataframe tbody tr th {\n",
       "        vertical-align: top;\n",
       "    }\n",
       "\n",
       "    .dataframe thead th {\n",
       "        text-align: right;\n",
       "    }\n",
       "</style>\n",
       "<table border=\"1\" class=\"dataframe\">\n",
       "  <thead>\n",
       "    <tr style=\"text-align: right;\">\n",
       "      <th></th>\n",
       "      <th>country</th>\n",
       "      <th>incomeperperson</th>\n",
       "      <th>alcconsumption</th>\n",
       "      <th>armedforcesrate</th>\n",
       "      <th>breastcancerper100th</th>\n",
       "      <th>co2emissions</th>\n",
       "      <th>femaleemployrate</th>\n",
       "      <th>hivrate</th>\n",
       "      <th>internetuserate</th>\n",
       "      <th>lifeexpectancy</th>\n",
       "      <th>oilperperson</th>\n",
       "      <th>polityscore</th>\n",
       "      <th>relectricperperson</th>\n",
       "      <th>suicideper100th</th>\n",
       "      <th>employrate</th>\n",
       "      <th>urbanrate</th>\n",
       "    </tr>\n",
       "  </thead>\n",
       "  <tbody>\n",
       "    <tr>\n",
       "      <th>0</th>\n",
       "      <td>Afghanistan</td>\n",
       "      <td></td>\n",
       "      <td>.03</td>\n",
       "      <td>.5696534</td>\n",
       "      <td>26.8</td>\n",
       "      <td>75944000</td>\n",
       "      <td>25.6000003814697</td>\n",
       "      <td></td>\n",
       "      <td>3.65412162280064</td>\n",
       "      <td>48.673</td>\n",
       "      <td></td>\n",
       "      <td>0</td>\n",
       "      <td></td>\n",
       "      <td>6.68438529968262</td>\n",
       "      <td>55.7000007629394</td>\n",
       "      <td>24.04</td>\n",
       "    </tr>\n",
       "    <tr>\n",
       "      <th>1</th>\n",
       "      <td>Albania</td>\n",
       "      <td>1914.99655094922</td>\n",
       "      <td>7.29</td>\n",
       "      <td>1.0247361</td>\n",
       "      <td>57.4</td>\n",
       "      <td>223747333.333333</td>\n",
       "      <td>42.0999984741211</td>\n",
       "      <td></td>\n",
       "      <td>44.9899469578783</td>\n",
       "      <td>76.918</td>\n",
       "      <td></td>\n",
       "      <td>9</td>\n",
       "      <td>636.341383366604</td>\n",
       "      <td>7.69932985305786</td>\n",
       "      <td>51.4000015258789</td>\n",
       "      <td>46.72</td>\n",
       "    </tr>\n",
       "    <tr>\n",
       "      <th>2</th>\n",
       "      <td>Algeria</td>\n",
       "      <td>2231.99333515006</td>\n",
       "      <td>.69</td>\n",
       "      <td>2.306817</td>\n",
       "      <td>23.5</td>\n",
       "      <td>2932108666.66667</td>\n",
       "      <td>31.7000007629394</td>\n",
       "      <td>.1</td>\n",
       "      <td>12.5000733055148</td>\n",
       "      <td>73.131</td>\n",
       "      <td>.42009452521537</td>\n",
       "      <td>2</td>\n",
       "      <td>590.509814347428</td>\n",
       "      <td>4.8487696647644</td>\n",
       "      <td>50.5</td>\n",
       "      <td>65.22</td>\n",
       "    </tr>\n",
       "    <tr>\n",
       "      <th>3</th>\n",
       "      <td>Andorra</td>\n",
       "      <td>21943.3398976022</td>\n",
       "      <td>10.17</td>\n",
       "      <td></td>\n",
       "      <td></td>\n",
       "      <td></td>\n",
       "      <td></td>\n",
       "      <td></td>\n",
       "      <td>81</td>\n",
       "      <td></td>\n",
       "      <td></td>\n",
       "      <td></td>\n",
       "      <td></td>\n",
       "      <td>5.36217880249023</td>\n",
       "      <td></td>\n",
       "      <td>88.92</td>\n",
       "    </tr>\n",
       "    <tr>\n",
       "      <th>4</th>\n",
       "      <td>Angola</td>\n",
       "      <td>1381.00426770244</td>\n",
       "      <td>5.57</td>\n",
       "      <td>1.4613288</td>\n",
       "      <td>23.1</td>\n",
       "      <td>248358000</td>\n",
       "      <td>69.4000015258789</td>\n",
       "      <td>2</td>\n",
       "      <td>9.99995388324075</td>\n",
       "      <td>51.093</td>\n",
       "      <td></td>\n",
       "      <td>-2</td>\n",
       "      <td>172.999227388199</td>\n",
       "      <td>14.5546770095825</td>\n",
       "      <td>75.6999969482422</td>\n",
       "      <td>56.7</td>\n",
       "    </tr>\n",
       "  </tbody>\n",
       "</table>\n",
       "</div>"
      ],
      "text/plain": [
       "       country   incomeperperson alcconsumption armedforcesrate  \\\n",
       "0  Afghanistan                              .03        .5696534   \n",
       "1      Albania  1914.99655094922           7.29       1.0247361   \n",
       "2      Algeria  2231.99333515006            .69        2.306817   \n",
       "3      Andorra  21943.3398976022          10.17                   \n",
       "4       Angola  1381.00426770244           5.57       1.4613288   \n",
       "\n",
       "  breastcancerper100th      co2emissions  femaleemployrate hivrate  \\\n",
       "0                 26.8          75944000  25.6000003814697           \n",
       "1                 57.4  223747333.333333  42.0999984741211           \n",
       "2                 23.5  2932108666.66667  31.7000007629394      .1   \n",
       "3                                                                    \n",
       "4                 23.1         248358000  69.4000015258789       2   \n",
       "\n",
       "    internetuserate lifeexpectancy     oilperperson polityscore  \\\n",
       "0  3.65412162280064         48.673                            0   \n",
       "1  44.9899469578783         76.918                            9   \n",
       "2  12.5000733055148         73.131  .42009452521537           2   \n",
       "3                81                                               \n",
       "4  9.99995388324075         51.093                           -2   \n",
       "\n",
       "  relectricperperson   suicideper100th        employrate urbanrate  \n",
       "0                     6.68438529968262  55.7000007629394     24.04  \n",
       "1   636.341383366604  7.69932985305786  51.4000015258789     46.72  \n",
       "2   590.509814347428   4.8487696647644              50.5     65.22  \n",
       "3                     5.36217880249023                       88.92  \n",
       "4   172.999227388199  14.5546770095825  75.6999969482422      56.7  "
      ]
     },
     "execution_count": 4,
     "metadata": {},
     "output_type": "execute_result"
    }
   ],
   "source": [
    "df.head()"
   ]
  },
  {
   "cell_type": "code",
   "execution_count": 5,
   "id": "8b4debf2",
   "metadata": {},
   "outputs": [],
   "source": [
    "# convert variables to numeric format using convert_objects function\n",
    "df['breastcancerper100th'] = pd.to_numeric(df['breastcancerper100th'], errors = 'coerce')\n",
    "df['lifeexpectancy'] = pd.to_numeric(df['lifeexpectancy'], errors = 'coerce')\n",
    "df['alcconsumption'] = pd.to_numeric(df['alcconsumption'], errors='coerce')\n"
   ]
  },
  {
   "cell_type": "code",
   "execution_count": 6,
   "id": "a76c185b",
   "metadata": {},
   "outputs": [],
   "source": [
    "# drop NA\n",
    "sub1 = df[['breastcancerper100th', 'lifeexpectancy','alcconsumption']].dropna()"
   ]
  },
  {
   "cell_type": "code",
   "execution_count": 7,
   "id": "db31b5c5",
   "metadata": {},
   "outputs": [
    {
     "name": "stdout",
     "output_type": "stream",
     "text": [
      "AxesSubplot(0.125,0.125;0.775x0.755)\n"
     ]
    },
    {
     "data": {
      "image/png": "[encoded data removed]",
      "text/plain": [
       "<Figure size 432x288 with 1 Axes>"
      ]
     },
     "metadata": {
      "needs_background": "light"
     },
     "output_type": "display_data"
    }
   ],
   "source": [
    "#scatter plot: want to check the association\n",
    "scat1 = sns.regplot( x='lifeexpectancy', y='breastcancerper100th', scatter=True, data=sub1)\n",
    "print(scat1)"
   ]
  },
  {
   "cell_type": "code",
   "execution_count": 8,
   "id": "64b95bdc",
   "metadata": {},
   "outputs": [
    {
     "name": "stdout",
     "output_type": "stream",
     "text": [
      "breastcancerbi        0  1\n",
      "breastcancerper100th      \n",
      "3.90                  1  0\n",
      "4.40                  1  0\n",
      "6.40                  1  0\n",
      "6.60                  1  0\n",
      "8.80                  1  0\n",
      "...                  .. ..\n",
      "90.00                 0  1\n",
      "90.80                 0  1\n",
      "91.90                 0  2\n",
      "92.00                 0  1\n",
      "101.10                0  1\n",
      "\n",
      "[135 rows x 2 columns]\n"
     ]
    }
   ],
   "source": [
    "# create binary breastcancerper100th dependence variable\n",
    "# recategorize breastcancerper100th to high and low as binary variables \n",
    "# above average is recoded as high =1, below average is recoded as low =0 \n",
    "def breastcancerbi (x):\n",
    "    if x['breastcancerper100th'] > sub1['breastcancerper100th'].mean():\n",
    "        return 1\n",
    "    else:\n",
    "        return 0\n",
    "sub1['breastcancerbi'] = sub1.apply (lambda x: breastcancerbi(x), axis =1)\n",
    "print(pd.crosstab(sub1['breastcancerper100th'], sub1['breastcancerbi']))"
   ]
  },
  {
   "cell_type": "code",
   "execution_count": 9,
   "id": "903809d8",
   "metadata": {},
   "outputs": [
    {
     "name": "stdout",
     "output_type": "stream",
     "text": [
      "Optimization terminated successfully.\n",
      "         Current function value: 0.413634\n",
      "         Iterations 8\n",
      "                           Logit Regression Results                           \n",
      "==============================================================================\n",
      "Dep. Variable:         breastcancerbi   No. Observations:                  168\n",
      "Model:                          Logit   Df Residuals:                      166\n",
      "Method:                           MLE   Df Model:                            1\n",
      "Date:                Tue, 16 Aug 2022   Pseudo R-squ.:                  0.3619\n",
      "Time:                        16:21:25   Log-Likelihood:                -69.490\n",
      "converged:                       True   LL-Null:                       -108.89\n",
      "Covariance Type:            nonrobust   LLR p-value:                 6.846e-19\n",
      "==================================================================================\n",
      "                     coef    std err          z      P>|z|      [0.025      0.975]\n",
      "----------------------------------------------------------------------------------\n",
      "Intercept        -20.0073      3.549     -5.638      0.000     -26.963     -13.052\n",
      "lifeexpectancy     0.2670      0.048      5.615      0.000       0.174       0.360\n",
      "==================================================================================\n"
     ]
    }
   ],
   "source": [
    "#logistic regression breast cancer \n",
    "loreg1 = smf.logit(formula = 'breastcancerbi ~lifeexpectancy', data = sub1).fit()\n",
    "print(loreg1.summary())"
   ]
  },
  {
   "cell_type": "markdown",
   "id": "9f4e415d",
   "metadata": {},
   "source": [
    "The logistic regression used here is Y = -20.0073 + 0.2670Xi. The result of this regression model indicates that life expectancy (Beta = 0.2670, p = 0.0001, R-square = 0.3619) was significantly and positively associated with breast cancer. "
   ]
  },
  {
   "cell_type": "code",
   "execution_count": 10,
   "id": "c885fd99",
   "metadata": {},
   "outputs": [
    {
     "name": "stdout",
     "output_type": "stream",
     "text": [
      "odds ratio\n",
      "Intercept        0.00\n",
      "lifeexpectancy   1.31\n",
      "dtype: float64\n"
     ]
    }
   ],
   "source": [
    "# odds ratio\n",
    "\n",
    "print('odds ratio')\n",
    "print (np.exp(loreg1.params))"
   ]
  },
  {
   "cell_type": "markdown",
   "id": "acb79873",
   "metadata": {},
   "source": [
    "Higher life expectancy (newborn child) in sample is 1.31 times more likely to have breast cancer ( new cases in female) than lower life expectancy. "
   ]
  },
  {
   "cell_type": "code",
   "execution_count": 11,
   "id": "a9c7497d",
   "metadata": {},
   "outputs": [
    {
     "name": "stdout",
     "output_type": "stream",
     "text": [
      "                Lower CI  Upper CI   OR\n",
      "Intercept           0.00      0.00 0.00\n",
      "lifeexpectancy      1.19      1.43 1.31\n"
     ]
    }
   ],
   "source": [
    "# Oddds ratio with 95% confidence intervals\n",
    "params = loreg1.params\n",
    "conf = loreg1.conf_int()\n",
    "conf['OR'] = params\n",
    "conf.columns = ['Lower CI', 'Upper CI', 'OR']\n",
    "print(np.exp(conf))"
   ]
  },
  {
   "cell_type": "markdown",
   "id": "437fa287",
   "metadata": {},
   "source": [
    "Higher life expectancy are anywhere from 1.19 to 1.43 times more likely to have breast cancer for female in popoulation parameter. "
   ]
  },
  {
   "cell_type": "code",
   "execution_count": 12,
   "id": "28161429",
   "metadata": {},
   "outputs": [],
   "source": [
    "# potential confounding variables -- alcconsumption: alcohol consumption per adult (age 15+), litres\n",
    "#center quantitative for regression analysis\n",
    "sub1['lifeexpectancy_c'] = sub1['lifeexpectancy'] - sub1['lifeexpectancy'].mean()\n",
    "sub1['alcconsumption_c'] = sub1['alcconsumption'] - sub1['alcconsumption'].mean()\n"
   ]
  },
  {
   "cell_type": "code",
   "execution_count": 13,
   "id": "9f505241",
   "metadata": {},
   "outputs": [
    {
     "data": {
      "text/html": [
       "<div>\n",
       "<style scoped>\n",
       "    .dataframe tbody tr th:only-of-type {\n",
       "        vertical-align: middle;\n",
       "    }\n",
       "\n",
       "    .dataframe tbody tr th {\n",
       "        vertical-align: top;\n",
       "    }\n",
       "\n",
       "    .dataframe thead th {\n",
       "        text-align: right;\n",
       "    }\n",
       "</style>\n",
       "<table border=\"1\" class=\"dataframe\">\n",
       "  <thead>\n",
       "    <tr style=\"text-align: right;\">\n",
       "      <th></th>\n",
       "      <th>breastcancerper100th</th>\n",
       "      <th>lifeexpectancy</th>\n",
       "      <th>alcconsumption</th>\n",
       "      <th>breastcancerbi</th>\n",
       "      <th>lifeexpectancy_c</th>\n",
       "      <th>alcconsumption_c</th>\n",
       "    </tr>\n",
       "  </thead>\n",
       "  <tbody>\n",
       "    <tr>\n",
       "      <th>count</th>\n",
       "      <td>168.00</td>\n",
       "      <td>168.00</td>\n",
       "      <td>168.00</td>\n",
       "      <td>168.00</td>\n",
       "      <td>168.00</td>\n",
       "      <td>168.00</td>\n",
       "    </tr>\n",
       "    <tr>\n",
       "      <th>mean</th>\n",
       "      <td>37.24</td>\n",
       "      <td>69.07</td>\n",
       "      <td>6.62</td>\n",
       "      <td>0.35</td>\n",
       "      <td>0.00</td>\n",
       "      <td>0.00</td>\n",
       "    </tr>\n",
       "    <tr>\n",
       "      <th>std</th>\n",
       "      <td>22.89</td>\n",
       "      <td>10.00</td>\n",
       "      <td>5.02</td>\n",
       "      <td>0.48</td>\n",
       "      <td>10.00</td>\n",
       "      <td>5.02</td>\n",
       "    </tr>\n",
       "    <tr>\n",
       "      <th>min</th>\n",
       "      <td>3.90</td>\n",
       "      <td>47.79</td>\n",
       "      <td>0.03</td>\n",
       "      <td>0.00</td>\n",
       "      <td>-21.27</td>\n",
       "      <td>-6.59</td>\n",
       "    </tr>\n",
       "    <tr>\n",
       "      <th>25%</th>\n",
       "      <td>20.55</td>\n",
       "      <td>62.37</td>\n",
       "      <td>2.39</td>\n",
       "      <td>0.00</td>\n",
       "      <td>-6.70</td>\n",
       "      <td>-4.23</td>\n",
       "    </tr>\n",
       "    <tr>\n",
       "      <th>50%</th>\n",
       "      <td>29.80</td>\n",
       "      <td>72.81</td>\n",
       "      <td>5.87</td>\n",
       "      <td>0.00</td>\n",
       "      <td>3.74</td>\n",
       "      <td>-0.75</td>\n",
       "    </tr>\n",
       "    <tr>\n",
       "      <th>75%</th>\n",
       "      <td>49.73</td>\n",
       "      <td>76.13</td>\n",
       "      <td>9.73</td>\n",
       "      <td>1.00</td>\n",
       "      <td>7.06</td>\n",
       "      <td>3.11</td>\n",
       "    </tr>\n",
       "    <tr>\n",
       "      <th>max</th>\n",
       "      <td>101.10</td>\n",
       "      <td>83.39</td>\n",
       "      <td>23.01</td>\n",
       "      <td>1.00</td>\n",
       "      <td>14.33</td>\n",
       "      <td>16.39</td>\n",
       "    </tr>\n",
       "  </tbody>\n",
       "</table>\n",
       "</div>"
      ],
      "text/plain": [
       "       breastcancerper100th  lifeexpectancy  alcconsumption  breastcancerbi  \\\n",
       "count                168.00          168.00          168.00          168.00   \n",
       "mean                  37.24           69.07            6.62            0.35   \n",
       "std                   22.89           10.00            5.02            0.48   \n",
       "min                    3.90           47.79            0.03            0.00   \n",
       "25%                   20.55           62.37            2.39            0.00   \n",
       "50%                   29.80           72.81            5.87            0.00   \n",
       "75%                   49.73           76.13            9.73            1.00   \n",
       "max                  101.10           83.39           23.01            1.00   \n",
       "\n",
       "       lifeexpectancy_c  alcconsumption_c  \n",
       "count            168.00            168.00  \n",
       "mean               0.00              0.00  \n",
       "std               10.00              5.02  \n",
       "min              -21.27             -6.59  \n",
       "25%               -6.70             -4.23  \n",
       "50%                3.74             -0.75  \n",
       "75%                7.06              3.11  \n",
       "max               14.33             16.39  "
      ]
     },
     "execution_count": 13,
     "metadata": {},
     "output_type": "execute_result"
    }
   ],
   "source": [
    "sub1.describe()"
   ]
  },
  {
   "cell_type": "code",
   "execution_count": 15,
   "id": "7e114373",
   "metadata": {},
   "outputs": [
    {
     "name": "stdout",
     "output_type": "stream",
     "text": [
      "Optimization terminated successfully.\n",
      "         Current function value: 0.315701\n",
      "         Iterations 8\n",
      "                           Logit Regression Results                           \n",
      "==============================================================================\n",
      "Dep. Variable:         breastcancerbi   No. Observations:                  168\n",
      "Model:                          Logit   Df Residuals:                      165\n",
      "Method:                           MLE   Df Model:                            2\n",
      "Date:                Tue, 16 Aug 2022   Pseudo R-squ.:                  0.5129\n",
      "Time:                        16:25:11   Log-Likelihood:                -53.038\n",
      "converged:                       True   LL-Null:                       -108.89\n",
      "Covariance Type:            nonrobust   LLR p-value:                 5.518e-25\n",
      "====================================================================================\n",
      "                       coef    std err          z      P>|z|      [0.025      0.975]\n",
      "------------------------------------------------------------------------------------\n",
      "Intercept           -1.6354      0.377     -4.344      0.000      -2.373      -0.897\n",
      "lifeexpectancy_c     0.2416      0.052      4.635      0.000       0.139       0.344\n",
      "alcconsumption_c     0.2654      0.055      4.812      0.000       0.157       0.374\n",
      "====================================================================================\n"
     ]
    }
   ],
   "source": [
    "# logistic regression 2 consider potential confounding variable\n",
    "\n",
    "loreg2 = smf.logit(formula = 'breastcancerbi ~ lifeexpectancy_c + alcconsumption_c', data = sub1).fit()\n",
    "print(loreg2.summary())"
   ]
  },
  {
   "cell_type": "markdown",
   "id": "e894686e",
   "metadata": {},
   "source": [
    "The logistic regression used here is Y = -1.6354 + 0.2416X1 + 0.2654X2. The result of this regression model indicates that life expectancy (Beta = 0.2416, p = 0.0001, R-square = 0.5129) was significantly and positively associated with breast cancer. Also, alcohol consumption (Beta = 0.2654, p = 0.0001) was significantly and positively associated with the breast cancer.  "
   ]
  },
  {
   "cell_type": "code",
   "execution_count": 16,
   "id": "6958ddc9",
   "metadata": {},
   "outputs": [
    {
     "name": "stdout",
     "output_type": "stream",
     "text": [
      "                  Lower CI  Upper CI   OR\n",
      "Intercept             0.09      0.41 0.19\n",
      "lifeexpectancy_c      1.15      1.41 1.27\n",
      "alcconsumption_c      1.17      1.45 1.30\n"
     ]
    }
   ],
   "source": [
    "# odds ratio with 95% confidence intervals\n",
    "\n",
    "params = loreg2.params\n",
    "conf = loreg2.conf_int()\n",
    "conf['OR'] = params\n",
    "conf.columns = ['Lower CI', 'Upper CI', 'OR']\n",
    "print(np.exp(conf))\n"
   ]
  },
  {
   "attachments": {},
   "cell_type": "markdown",
   "id": "59ec32e2",
   "metadata": {},
   "source": [
    "Higher life expectancy (newborn child) in sample is 1.27 times more likely to have breast cancer ( new cases in female) than lower life expectancy. And more alcohol consumption in sample is 1.3 times more likely to have breast cancer than less alcohol consumption. \n",
    "\n",
    "Higher life expectancy are anywhere from 1.15 to 1.41 times more likely to have breast cancer for female in popoulation parameter. And more alcohol consumption are anywhere from 1.17 to 1.45 times more likely to have breast cancer in population. \n"
   ]
  }
 ],
 "metadata": {
  "kernelspec": {
   "display_name": "Python 3 (ipykernel)",
   "language": "python",
   "name": "python3"
  },
  "language_info": {
   "codemirror_mode": {
    "name": "ipython",
    "version": 3
   },
   "file_extension": ".py",
   "mimetype": "text/x-python",
   "name": "python",
   "nbconvert_exporter": "python",
   "pygments_lexer": "ipython3",
   "version": "3.9.12"
  }
 },
 "nbformat": 4,
 "nbformat_minor": 5
}
