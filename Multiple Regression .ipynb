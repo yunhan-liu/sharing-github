{
 "cells": [
  {
   "cell_type": "markdown",
   "id": "07644173",
   "metadata": {},
   "source": [
    "Multiple Regression\n",
    "The association between female breast cancer and urban rate and discussion of the evidence of confounding for the association between primary explanatory and response variable. \n"
   ]
  },
  {
   "cell_type": "code",
   "execution_count": 47,
   "id": "13970a0f",
   "metadata": {},
   "outputs": [],
   "source": [
    "import numpy as np\n",
    "import pandas as pd\n",
    "import statsmodels.formula.api as smf\n",
    "import matplotlib.pyplot as plt\n",
    "import seaborn as sns \n",
    "import statsmodels.api as sm"
   ]
  },
  {
   "cell_type": "code",
   "execution_count": 2,
   "id": "7e4a051f",
   "metadata": {},
   "outputs": [],
   "source": [
    "# bug fix for display formats to avoid run time errors\n",
    "pd.set_option('display.float_format', lambda x:'%.2f'%x)"
   ]
  },
  {
   "cell_type": "code",
   "execution_count": 3,
   "id": "6c9db03f",
   "metadata": {},
   "outputs": [],
   "source": [
    "df = pd.read_csv('gapminder.csv')"
   ]
  },
  {
   "cell_type": "code",
   "execution_count": 4,
   "id": "c28472bf",
   "metadata": {},
   "outputs": [
    {
     "data": {
      "text/html": [
       "<div>\n",
       "<style scoped>\n",
       "    .dataframe tbody tr th:only-of-type {\n",
       "        vertical-align: middle;\n",
       "    }\n",
       "\n",
       "    .dataframe tbody tr th {\n",
       "        vertical-align: top;\n",
       "    }\n",
       "\n",
       "    .dataframe thead th {\n",
       "        text-align: right;\n",
       "    }\n",
       "</style>\n",
       "<table border=\"1\" class=\"dataframe\">\n",
       "  <thead>\n",
       "    <tr style=\"text-align: right;\">\n",
       "      <th></th>\n",
       "      <th>country</th>\n",
       "      <th>incomeperperson</th>\n",
       "      <th>alcconsumption</th>\n",
       "      <th>armedforcesrate</th>\n",
       "      <th>breastcancerper100th</th>\n",
       "      <th>co2emissions</th>\n",
       "      <th>femaleemployrate</th>\n",
       "      <th>hivrate</th>\n",
       "      <th>internetuserate</th>\n",
       "      <th>lifeexpectancy</th>\n",
       "      <th>oilperperson</th>\n",
       "      <th>polityscore</th>\n",
       "      <th>relectricperperson</th>\n",
       "      <th>suicideper100th</th>\n",
       "      <th>employrate</th>\n",
       "      <th>urbanrate</th>\n",
       "    </tr>\n",
       "  </thead>\n",
       "  <tbody>\n",
       "    <tr>\n",
       "      <th>0</th>\n",
       "      <td>Afghanistan</td>\n",
       "      <td></td>\n",
       "      <td>.03</td>\n",
       "      <td>.5696534</td>\n",
       "      <td>26.8</td>\n",
       "      <td>75944000</td>\n",
       "      <td>25.6000003814697</td>\n",
       "      <td></td>\n",
       "      <td>3.65412162280064</td>\n",
       "      <td>48.673</td>\n",
       "      <td></td>\n",
       "      <td>0</td>\n",
       "      <td></td>\n",
       "      <td>6.68438529968262</td>\n",
       "      <td>55.7000007629394</td>\n",
       "      <td>24.04</td>\n",
       "    </tr>\n",
       "    <tr>\n",
       "      <th>1</th>\n",
       "      <td>Albania</td>\n",
       "      <td>1914.99655094922</td>\n",
       "      <td>7.29</td>\n",
       "      <td>1.0247361</td>\n",
       "      <td>57.4</td>\n",
       "      <td>223747333.333333</td>\n",
       "      <td>42.0999984741211</td>\n",
       "      <td></td>\n",
       "      <td>44.9899469578783</td>\n",
       "      <td>76.918</td>\n",
       "      <td></td>\n",
       "      <td>9</td>\n",
       "      <td>636.341383366604</td>\n",
       "      <td>7.69932985305786</td>\n",
       "      <td>51.4000015258789</td>\n",
       "      <td>46.72</td>\n",
       "    </tr>\n",
       "    <tr>\n",
       "      <th>2</th>\n",
       "      <td>Algeria</td>\n",
       "      <td>2231.99333515006</td>\n",
       "      <td>.69</td>\n",
       "      <td>2.306817</td>\n",
       "      <td>23.5</td>\n",
       "      <td>2932108666.66667</td>\n",
       "      <td>31.7000007629394</td>\n",
       "      <td>.1</td>\n",
       "      <td>12.5000733055148</td>\n",
       "      <td>73.131</td>\n",
       "      <td>.42009452521537</td>\n",
       "      <td>2</td>\n",
       "      <td>590.509814347428</td>\n",
       "      <td>4.8487696647644</td>\n",
       "      <td>50.5</td>\n",
       "      <td>65.22</td>\n",
       "    </tr>\n",
       "    <tr>\n",
       "      <th>3</th>\n",
       "      <td>Andorra</td>\n",
       "      <td>21943.3398976022</td>\n",
       "      <td>10.17</td>\n",
       "      <td></td>\n",
       "      <td></td>\n",
       "      <td></td>\n",
       "      <td></td>\n",
       "      <td></td>\n",
       "      <td>81</td>\n",
       "      <td></td>\n",
       "      <td></td>\n",
       "      <td></td>\n",
       "      <td></td>\n",
       "      <td>5.36217880249023</td>\n",
       "      <td></td>\n",
       "      <td>88.92</td>\n",
       "    </tr>\n",
       "    <tr>\n",
       "      <th>4</th>\n",
       "      <td>Angola</td>\n",
       "      <td>1381.00426770244</td>\n",
       "      <td>5.57</td>\n",
       "      <td>1.4613288</td>\n",
       "      <td>23.1</td>\n",
       "      <td>248358000</td>\n",
       "      <td>69.4000015258789</td>\n",
       "      <td>2</td>\n",
       "      <td>9.99995388324075</td>\n",
       "      <td>51.093</td>\n",
       "      <td></td>\n",
       "      <td>-2</td>\n",
       "      <td>172.999227388199</td>\n",
       "      <td>14.5546770095825</td>\n",
       "      <td>75.6999969482422</td>\n",
       "      <td>56.7</td>\n",
       "    </tr>\n",
       "    <tr>\n",
       "      <th>5</th>\n",
       "      <td>Antigua and Barbuda</td>\n",
       "      <td>11894.4640745081</td>\n",
       "      <td>8.17</td>\n",
       "      <td></td>\n",
       "      <td></td>\n",
       "      <td>16225000</td>\n",
       "      <td></td>\n",
       "      <td></td>\n",
       "      <td>80.6454545454545</td>\n",
       "      <td></td>\n",
       "      <td></td>\n",
       "      <td></td>\n",
       "      <td></td>\n",
       "      <td>2.16184329986572</td>\n",
       "      <td></td>\n",
       "      <td>30.46</td>\n",
       "    </tr>\n",
       "    <tr>\n",
       "      <th>6</th>\n",
       "      <td>Argentina</td>\n",
       "      <td>10749.4192379463</td>\n",
       "      <td>9.35</td>\n",
       "      <td>.560987</td>\n",
       "      <td>73.9</td>\n",
       "      <td>5872119000</td>\n",
       "      <td>45.9000015258789</td>\n",
       "      <td>.5</td>\n",
       "      <td>36.0003349500148</td>\n",
       "      <td>75.901</td>\n",
       "      <td>.635943800978195</td>\n",
       "      <td>8</td>\n",
       "      <td>768.428299701347</td>\n",
       "      <td>7.765584</td>\n",
       "      <td>58.4000015258789</td>\n",
       "      <td>92</td>\n",
       "    </tr>\n",
       "    <tr>\n",
       "      <th>7</th>\n",
       "      <td>Armenia</td>\n",
       "      <td>1326.74175718861</td>\n",
       "      <td>13.66</td>\n",
       "      <td>2.6184384</td>\n",
       "      <td>51.6</td>\n",
       "      <td>51219666.6666667</td>\n",
       "      <td>34.2000007629394</td>\n",
       "      <td>.1</td>\n",
       "      <td>44.0010245795602</td>\n",
       "      <td>74.241</td>\n",
       "      <td></td>\n",
       "      <td>5</td>\n",
       "      <td>603.763057563433</td>\n",
       "      <td>3.74158787727356</td>\n",
       "      <td>40.0999984741211</td>\n",
       "      <td>63.86</td>\n",
       "    </tr>\n",
       "    <tr>\n",
       "      <th>8</th>\n",
       "      <td>Aruba</td>\n",
       "      <td></td>\n",
       "      <td></td>\n",
       "      <td></td>\n",
       "      <td></td>\n",
       "      <td>35871000</td>\n",
       "      <td></td>\n",
       "      <td></td>\n",
       "      <td>41.8008888888889</td>\n",
       "      <td>75.246</td>\n",
       "      <td></td>\n",
       "      <td></td>\n",
       "      <td></td>\n",
       "      <td></td>\n",
       "      <td></td>\n",
       "      <td>46.78</td>\n",
       "    </tr>\n",
       "    <tr>\n",
       "      <th>9</th>\n",
       "      <td>Australia</td>\n",
       "      <td>25249.98606148</td>\n",
       "      <td>10.21</td>\n",
       "      <td>.4862799</td>\n",
       "      <td>83.2</td>\n",
       "      <td>12970092666.6667</td>\n",
       "      <td>54.5999984741211</td>\n",
       "      <td>.1</td>\n",
       "      <td>75.8956537961344</td>\n",
       "      <td>81.907</td>\n",
       "      <td>1.91302610912404</td>\n",
       "      <td>10</td>\n",
       "      <td>2825.39109539914</td>\n",
       "      <td>8.4700301251191</td>\n",
       "      <td>61.5</td>\n",
       "      <td>88.74</td>\n",
       "    </tr>\n",
       "  </tbody>\n",
       "</table>\n",
       "</div>"
      ],
      "text/plain": [
       "               country   incomeperperson alcconsumption armedforcesrate  \\\n",
       "0          Afghanistan                              .03        .5696534   \n",
       "1              Albania  1914.99655094922           7.29       1.0247361   \n",
       "2              Algeria  2231.99333515006            .69        2.306817   \n",
       "3              Andorra  21943.3398976022          10.17                   \n",
       "4               Angola  1381.00426770244           5.57       1.4613288   \n",
       "5  Antigua and Barbuda  11894.4640745081           8.17                   \n",
       "6            Argentina  10749.4192379463           9.35         .560987   \n",
       "7              Armenia  1326.74175718861          13.66       2.6184384   \n",
       "8                Aruba                                                    \n",
       "9            Australia    25249.98606148          10.21        .4862799   \n",
       "\n",
       "  breastcancerper100th      co2emissions  femaleemployrate hivrate  \\\n",
       "0                 26.8          75944000  25.6000003814697           \n",
       "1                 57.4  223747333.333333  42.0999984741211           \n",
       "2                 23.5  2932108666.66667  31.7000007629394      .1   \n",
       "3                                                                    \n",
       "4                 23.1         248358000  69.4000015258789       2   \n",
       "5                               16225000                             \n",
       "6                 73.9        5872119000  45.9000015258789      .5   \n",
       "7                 51.6  51219666.6666667  34.2000007629394      .1   \n",
       "8                               35871000                             \n",
       "9                 83.2  12970092666.6667  54.5999984741211      .1   \n",
       "\n",
       "    internetuserate lifeexpectancy      oilperperson polityscore  \\\n",
       "0  3.65412162280064         48.673                             0   \n",
       "1  44.9899469578783         76.918                             9   \n",
       "2  12.5000733055148         73.131   .42009452521537           2   \n",
       "3                81                                                \n",
       "4  9.99995388324075         51.093                            -2   \n",
       "5  80.6454545454545                                                \n",
       "6  36.0003349500148         75.901  .635943800978195           8   \n",
       "7  44.0010245795602         74.241                             5   \n",
       "8  41.8008888888889         75.246                                 \n",
       "9  75.8956537961344         81.907  1.91302610912404          10   \n",
       "\n",
       "  relectricperperson   suicideper100th        employrate urbanrate  \n",
       "0                     6.68438529968262  55.7000007629394     24.04  \n",
       "1   636.341383366604  7.69932985305786  51.4000015258789     46.72  \n",
       "2   590.509814347428   4.8487696647644              50.5     65.22  \n",
       "3                     5.36217880249023                       88.92  \n",
       "4   172.999227388199  14.5546770095825  75.6999969482422      56.7  \n",
       "5                     2.16184329986572                       30.46  \n",
       "6   768.428299701347          7.765584  58.4000015258789        92  \n",
       "7   603.763057563433  3.74158787727356  40.0999984741211     63.86  \n",
       "8                                                            46.78  \n",
       "9   2825.39109539914   8.4700301251191              61.5     88.74  "
      ]
     },
     "execution_count": 4,
     "metadata": {},
     "output_type": "execute_result"
    }
   ],
   "source": [
    "df.head(10)"
   ]
  },
  {
   "cell_type": "code",
   "execution_count": 5,
   "id": "91baff1d",
   "metadata": {},
   "outputs": [
    {
     "data": {
      "text/plain": [
       "(213, 16)"
      ]
     },
     "execution_count": 5,
     "metadata": {},
     "output_type": "execute_result"
    }
   ],
   "source": [
    "df.shape"
   ]
  },
  {
   "cell_type": "code",
   "execution_count": 34,
   "id": "3db90bcc",
   "metadata": {},
   "outputs": [],
   "source": [
    "# convert variables to numeric format using convert_objects function\n",
    "\n",
    "df['breastcancerper100th'] = pd.to_numeric(df['breastcancerper100th'], errors='coerce')\n",
    "df['femaleemployrate'] = pd.to_numeric(df['femaleemployrate'], errors='coerce')\n",
    "df['urbanrate'] = pd.to_numeric(df['urbanrate'], errors='coerce')\n",
    "df['hivrate'] = pd.to_numeric(df['hivrate'], errors='coerce')\n",
    "df['co2emissions'] = pd.to_numeric(df['co2emissions'], errors='coerce')\n",
    "df['alcconsumption'] = pd.to_numeric(df['alcconsumption'], errors='coerce')"
   ]
  },
  {
   "cell_type": "code",
   "execution_count": 36,
   "id": "9382c8eb",
   "metadata": {},
   "outputs": [],
   "source": [
    "#Drop NA\n",
    "sub1 = df[['breastcancerper100th','femaleemployrate','urbanrate','hivrate','co2emissions','alcconsumption']].dropna()"
   ]
  },
  {
   "cell_type": "code",
   "execution_count": 10,
   "id": "29106829",
   "metadata": {},
   "outputs": [
    {
     "name": "stdout",
     "output_type": "stream",
     "text": [
      "AxesSubplot(0.125,0.125;0.775x0.755)\n"
     ]
    },
    {
     "data": {
      "image/png": "[encoded data removed]",
      "text/plain": [
       "<Figure size 432x288 with 1 Axes>"
      ]
     },
     "metadata": {
      "needs_background": "light"
     },
     "output_type": "display_data"
    }
   ],
   "source": [
    "scat1 = sns.regplot(x='urbanrate', y='breastcancerper100th', scatter=True, data=sub1)\n",
    "plt.xlabel('Urban Rate')\n",
    "plt.ylabel('Breast Cancer per 100th')\n",
    "plt.title ('Scatterplot for the Association Between Urban Rate and Breast Cancer per 100th')\n",
    "print(scat1)\n"
   ]
  },
  {
   "cell_type": "code",
   "execution_count": 12,
   "id": "4dec0d9b",
   "metadata": {},
   "outputs": [
    {
     "name": "stdout",
     "output_type": "stream",
     "text": [
      "AxesSubplot(0.125,0.125;0.775x0.755)\n"
     ]
    },
    {
     "data": {
      "image/png": "[encoded data removed]",
      "text/plain": [
       "<Figure size 432x288 with 1 Axes>"
      ]
     },
     "metadata": {
      "needs_background": "light"
     },
     "output_type": "display_data"
    }
   ],
   "source": [
    "scat2 = sns.regplot(x='urbanrate',y='breastcancerper100th',scatter=True, order=2, data=sub1)\n",
    "plt.xlabel('Urban Rate')\n",
    "plt.ylabel('Breast Cancer per 100th')\n",
    "plt.title('Curve Scatterplot for the Association Between Urban Rate and Breast Cancer per 100th')\n",
    "print(scat2)\n",
    "\n",
    "# curve line is not doing a considerabley better explanation compared to straight line"
   ]
  },
  {
   "cell_type": "code",
   "execution_count": 37,
   "id": "385765b4",
   "metadata": {},
   "outputs": [],
   "source": [
    "#center quantitative for regression analysis\n",
    "sub1['urbanrate_c'] = (sub1['urbanrate']-sub1['urbanrate'].mean())\n",
    "sub1['femaleemployrate_c'] = (sub1['femaleemployrate']-sub1['femaleemployrate'].mean())\n",
    "sub1['hivrate_c'] = (sub1['hivrate']-sub1['hivrate'].mean())\n",
    "sub1['co2emissions_c'] = (sub1['co2emissions']-sub1['co2emissions'].mean())\n",
    "sub1['alcconsumption_c'] = (sub1['alcconsumption']-sub1['alcconsumption'].mean())"
   ]
  },
  {
   "cell_type": "code",
   "execution_count": 38,
   "id": "e635cadb",
   "metadata": {},
   "outputs": [
    {
     "data": {
      "text/html": [
       "<div>\n",
       "<style scoped>\n",
       "    .dataframe tbody tr th:only-of-type {\n",
       "        vertical-align: middle;\n",
       "    }\n",
       "\n",
       "    .dataframe tbody tr th {\n",
       "        vertical-align: top;\n",
       "    }\n",
       "\n",
       "    .dataframe thead th {\n",
       "        text-align: right;\n",
       "    }\n",
       "</style>\n",
       "<table border=\"1\" class=\"dataframe\">\n",
       "  <thead>\n",
       "    <tr style=\"text-align: right;\">\n",
       "      <th></th>\n",
       "      <th>breastcancerper100th</th>\n",
       "      <th>femaleemployrate</th>\n",
       "      <th>urbanrate</th>\n",
       "      <th>hivrate</th>\n",
       "      <th>co2emissions</th>\n",
       "      <th>alcconsumption</th>\n",
       "      <th>urbanrate_c</th>\n",
       "      <th>femaleemployrate_c</th>\n",
       "      <th>hivrate_c</th>\n",
       "      <th>co2emissions_c</th>\n",
       "      <th>alcconsumption_c</th>\n",
       "    </tr>\n",
       "  </thead>\n",
       "  <tbody>\n",
       "    <tr>\n",
       "      <th>count</th>\n",
       "      <td>142.00</td>\n",
       "      <td>142.00</td>\n",
       "      <td>142.00</td>\n",
       "      <td>142.00</td>\n",
       "      <td>142.00</td>\n",
       "      <td>142.00</td>\n",
       "      <td>142.00</td>\n",
       "      <td>142.00</td>\n",
       "      <td>142.00</td>\n",
       "      <td>142.00</td>\n",
       "      <td>142.00</td>\n",
       "    </tr>\n",
       "    <tr>\n",
       "      <th>mean</th>\n",
       "      <td>38.01</td>\n",
       "      <td>49.57</td>\n",
       "      <td>55.73</td>\n",
       "      <td>1.81</td>\n",
       "      <td>6818148720.66</td>\n",
       "      <td>7.19</td>\n",
       "      <td>0.00</td>\n",
       "      <td>0.00</td>\n",
       "      <td>0.00</td>\n",
       "      <td>-0.00</td>\n",
       "      <td>0.00</td>\n",
       "    </tr>\n",
       "    <tr>\n",
       "      <th>std</th>\n",
       "      <td>24.07</td>\n",
       "      <td>13.90</td>\n",
       "      <td>22.18</td>\n",
       "      <td>4.05</td>\n",
       "      <td>30378166406.80</td>\n",
       "      <td>5.09</td>\n",
       "      <td>22.18</td>\n",
       "      <td>13.90</td>\n",
       "      <td>4.05</td>\n",
       "      <td>30378166406.80</td>\n",
       "      <td>5.09</td>\n",
       "    </tr>\n",
       "    <tr>\n",
       "      <th>min</th>\n",
       "      <td>3.90</td>\n",
       "      <td>18.20</td>\n",
       "      <td>10.40</td>\n",
       "      <td>0.06</td>\n",
       "      <td>2368666.67</td>\n",
       "      <td>0.05</td>\n",
       "      <td>-45.33</td>\n",
       "      <td>-31.37</td>\n",
       "      <td>-1.75</td>\n",
       "      <td>-6815780053.99</td>\n",
       "      <td>-7.14</td>\n",
       "    </tr>\n",
       "    <tr>\n",
       "      <th>25%</th>\n",
       "      <td>19.75</td>\n",
       "      <td>39.95</td>\n",
       "      <td>36.97</td>\n",
       "      <td>0.10</td>\n",
       "      <td>70443083.33</td>\n",
       "      <td>3.12</td>\n",
       "      <td>-18.77</td>\n",
       "      <td>-9.62</td>\n",
       "      <td>-1.71</td>\n",
       "      <td>-6747705637.32</td>\n",
       "      <td>-4.07</td>\n",
       "    </tr>\n",
       "    <tr>\n",
       "      <th>50%</th>\n",
       "      <td>29.75</td>\n",
       "      <td>48.80</td>\n",
       "      <td>57.23</td>\n",
       "      <td>0.40</td>\n",
       "      <td>292259000.00</td>\n",
       "      <td>6.50</td>\n",
       "      <td>1.50</td>\n",
       "      <td>-0.77</td>\n",
       "      <td>-1.41</td>\n",
       "      <td>-6525889720.66</td>\n",
       "      <td>-0.69</td>\n",
       "    </tr>\n",
       "    <tr>\n",
       "      <th>75%</th>\n",
       "      <td>50.25</td>\n",
       "      <td>58.10</td>\n",
       "      <td>72.53</td>\n",
       "      <td>1.20</td>\n",
       "      <td>2468769416.67</td>\n",
       "      <td>10.21</td>\n",
       "      <td>16.80</td>\n",
       "      <td>8.53</td>\n",
       "      <td>-0.61</td>\n",
       "      <td>-4349379303.99</td>\n",
       "      <td>3.02</td>\n",
       "    </tr>\n",
       "    <tr>\n",
       "      <th>max</th>\n",
       "      <td>101.10</td>\n",
       "      <td>83.30</td>\n",
       "      <td>100.00</td>\n",
       "      <td>25.90</td>\n",
       "      <td>334220872333.33</td>\n",
       "      <td>23.01</td>\n",
       "      <td>44.27</td>\n",
       "      <td>33.73</td>\n",
       "      <td>24.09</td>\n",
       "      <td>327402723612.68</td>\n",
       "      <td>15.82</td>\n",
       "    </tr>\n",
       "  </tbody>\n",
       "</table>\n",
       "</div>"
      ],
      "text/plain": [
       "       breastcancerper100th  femaleemployrate  urbanrate  hivrate  \\\n",
       "count                142.00            142.00     142.00   142.00   \n",
       "mean                  38.01             49.57      55.73     1.81   \n",
       "std                   24.07             13.90      22.18     4.05   \n",
       "min                    3.90             18.20      10.40     0.06   \n",
       "25%                   19.75             39.95      36.97     0.10   \n",
       "50%                   29.75             48.80      57.23     0.40   \n",
       "75%                   50.25             58.10      72.53     1.20   \n",
       "max                  101.10             83.30     100.00    25.90   \n",
       "\n",
       "         co2emissions  alcconsumption  urbanrate_c  femaleemployrate_c  \\\n",
       "count          142.00          142.00       142.00              142.00   \n",
       "mean    6818148720.66            7.19         0.00                0.00   \n",
       "std    30378166406.80            5.09        22.18               13.90   \n",
       "min        2368666.67            0.05       -45.33              -31.37   \n",
       "25%       70443083.33            3.12       -18.77               -9.62   \n",
       "50%      292259000.00            6.50         1.50               -0.77   \n",
       "75%     2468769416.67           10.21        16.80                8.53   \n",
       "max   334220872333.33           23.01        44.27               33.73   \n",
       "\n",
       "       hivrate_c  co2emissions_c  alcconsumption_c  \n",
       "count     142.00          142.00            142.00  \n",
       "mean        0.00           -0.00              0.00  \n",
       "std         4.05  30378166406.80              5.09  \n",
       "min        -1.75  -6815780053.99             -7.14  \n",
       "25%        -1.71  -6747705637.32             -4.07  \n",
       "50%        -1.41  -6525889720.66             -0.69  \n",
       "75%        -0.61  -4349379303.99              3.02  \n",
       "max        24.09 327402723612.68             15.82  "
      ]
     },
     "execution_count": 38,
     "metadata": {},
     "output_type": "execute_result"
    }
   ],
   "source": [
    "sub1.describe()"
   ]
  },
  {
   "cell_type": "code",
   "execution_count": 17,
   "id": "d7e22155",
   "metadata": {},
   "outputs": [
    {
     "name": "stdout",
     "output_type": "stream",
     "text": [
      "                             OLS Regression Results                             \n",
      "================================================================================\n",
      "Dep. Variable:     breastcancerper100th   R-squared:                       0.339\n",
      "Model:                              OLS   Adj. R-squared:                  0.335\n",
      "Method:                   Least Squares   F-statistic:                     84.46\n",
      "Date:                  Wed, 10 Aug 2022   Prob (F-statistic):           1.63e-16\n",
      "Time:                          16:16:38   Log-Likelihood:                -725.26\n",
      "No. Observations:                   167   AIC:                             1455.\n",
      "Df Residuals:                       165   BIC:                             1461.\n",
      "Df Model:                             1                                         \n",
      "Covariance Type:              nonrobust                                         \n",
      "===============================================================================\n",
      "                  coef    std err          t      P>|t|      [0.025      0.975]\n",
      "-------------------------------------------------------------------------------\n",
      "Intercept      37.4251      1.449     25.826      0.000      34.564      40.286\n",
      "urbanrate_c     0.5851      0.064      9.190      0.000       0.459       0.711\n",
      "==============================================================================\n",
      "Omnibus:                        7.542   Durbin-Watson:                   1.684\n",
      "Prob(Omnibus):                  0.023   Jarque-Bera (JB):                7.375\n",
      "Skew:                           0.468   Prob(JB):                       0.0250\n",
      "Kurtosis:                       2.571   Cond. No.                         22.8\n",
      "==============================================================================\n",
      "\n",
      "Notes:\n",
      "[1] Standard Errors assume that the covariance matrix of the errors is correctly specified.\n"
     ]
    }
   ],
   "source": [
    "reg1 = smf.ols('breastcancerper100th ~ urbanrate_c',data=sub1).fit()\n",
    "print(reg1.summary())"
   ]
  },
  {
   "cell_type": "markdown",
   "id": "45ec7dae",
   "metadata": {},
   "source": [
    "The regression line used here is Y=37.4251+0.5851Xi. The results of the linear regression model indicated that urban rate (Beta=0.5851, p=0.0001 which is <0.05 means significant coefficent) was significantly and positively associated with breast cancer. And the R-squared was 0.339. "
   ]
  },
  {
   "cell_type": "code",
   "execution_count": 18,
   "id": "ce4473da",
   "metadata": {},
   "outputs": [
    {
     "name": "stdout",
     "output_type": "stream",
     "text": [
      "                             OLS Regression Results                             \n",
      "================================================================================\n",
      "Dep. Variable:     breastcancerper100th   R-squared:                       0.353\n",
      "Model:                              OLS   Adj. R-squared:                  0.345\n",
      "Method:                   Least Squares   F-statistic:                     44.68\n",
      "Date:                  Wed, 10 Aug 2022   Prob (F-statistic):           3.24e-16\n",
      "Time:                          16:21:46   Log-Likelihood:                -723.46\n",
      "No. Observations:                   167   AIC:                             1453.\n",
      "Df Residuals:                       164   BIC:                             1462.\n",
      "Df Model:                             2                                         \n",
      "Covariance Type:              nonrobust                                         \n",
      "======================================================================================\n",
      "                         coef    std err          t      P>|t|      [0.025      0.975]\n",
      "--------------------------------------------------------------------------------------\n",
      "Intercept             37.4251      1.438     26.027      0.000      34.586      40.264\n",
      "urbanrate_c            0.6253      0.067      9.381      0.000       0.494       0.757\n",
      "femaleemployrate_c     0.1954      0.103      1.892      0.060      -0.009       0.399\n",
      "==============================================================================\n",
      "Omnibus:                        7.459   Durbin-Watson:                   1.683\n",
      "Prob(Omnibus):                  0.024   Jarque-Bera (JB):                6.539\n",
      "Skew:                           0.407   Prob(JB):                       0.0380\n",
      "Kurtosis:                       2.474   Cond. No.                         23.5\n",
      "==============================================================================\n",
      "\n",
      "Notes:\n",
      "[1] Standard Errors assume that the covariance matrix of the errors is correctly specified.\n"
     ]
    }
   ],
   "source": [
    "reg2 = smf.ols('breastcancerper100th ~ urbanrate_c + femaleemployrate_c',data=sub1).fit()\n",
    "print(reg2.summary())"
   ]
  },
  {
   "cell_type": "markdown",
   "id": "7c4479f9",
   "metadata": {},
   "source": [
    "The regression line used here is Y2=37.4251+0.6253X1+0.1954X2. The results of linear regression model indicated that urban rate was still significantly and positively associated with breast cancer. However female employee rate was not significantly associated with the breast cancer. "
   ]
  },
  {
   "cell_type": "code",
   "execution_count": 25,
   "id": "9e591efd",
   "metadata": {},
   "outputs": [
    {
     "name": "stdout",
     "output_type": "stream",
     "text": [
      "                             OLS Regression Results                             \n",
      "================================================================================\n",
      "Dep. Variable:     breastcancerper100th   R-squared:                       0.427\n",
      "Model:                              OLS   Adj. R-squared:                  0.419\n",
      "Method:                   Least Squares   F-statistic:                     52.54\n",
      "Date:                  Wed, 10 Aug 2022   Prob (F-statistic):           8.91e-18\n",
      "Time:                          16:49:53   Log-Likelihood:                -621.49\n",
      "No. Observations:                   144   AIC:                             1249.\n",
      "Df Residuals:                       141   BIC:                             1258.\n",
      "Df Model:                             2                                         \n",
      "Covariance Type:              nonrobust                                         \n",
      "===============================================================================\n",
      "                  coef    std err          t      P>|t|      [0.025      0.975]\n",
      "-------------------------------------------------------------------------------\n",
      "Intercept      37.9326      1.526     24.859      0.000      34.916      40.949\n",
      "urbanrate_c     0.6614      0.071      9.322      0.000       0.521       0.802\n",
      "hivrate_c      -0.5516      0.361     -1.530      0.128      -1.265       0.161\n",
      "==============================================================================\n",
      "Omnibus:                        2.667   Durbin-Watson:                   1.961\n",
      "Prob(Omnibus):                  0.264   Jarque-Bera (JB):                2.569\n",
      "Skew:                           0.262   Prob(JB):                        0.277\n",
      "Kurtosis:                       2.609   Cond. No.                         22.4\n",
      "==============================================================================\n",
      "\n",
      "Notes:\n",
      "[1] Standard Errors assume that the covariance matrix of the errors is correctly specified.\n"
     ]
    }
   ],
   "source": [
    "reg3 = smf.ols('breastcancerper100th ~ urbanrate_c + hivrate_c',data=sub1).fit()\n",
    "print(reg3.summary())"
   ]
  },
  {
   "cell_type": "code",
   "execution_count": 31,
   "id": "8ff34383",
   "metadata": {},
   "outputs": [
    {
     "name": "stdout",
     "output_type": "stream",
     "text": [
      "                             OLS Regression Results                             \n",
      "================================================================================\n",
      "Dep. Variable:     breastcancerper100th   R-squared:                       0.468\n",
      "Model:                              OLS   Adj. R-squared:                  0.460\n",
      "Method:                   Least Squares   F-statistic:                     61.10\n",
      "Date:                  Wed, 10 Aug 2022   Prob (F-statistic):           9.13e-20\n",
      "Time:                          16:54:05   Log-Likelihood:                -607.92\n",
      "No. Observations:                   142   AIC:                             1222.\n",
      "Df Residuals:                       139   BIC:                             1231.\n",
      "Df Model:                             2                                         \n",
      "Covariance Type:              nonrobust                                         \n",
      "==================================================================================\n",
      "                     coef    std err          t      P>|t|      [0.025      0.975]\n",
      "----------------------------------------------------------------------------------\n",
      "Intercept         38.0148      1.484     25.611      0.000      35.080      40.950\n",
      "urbanrate_c        0.6818      0.068     10.013      0.000       0.547       0.816\n",
      "co2emissions_c  1.467e-10   4.97e-11      2.951      0.004    4.84e-11    2.45e-10\n",
      "==============================================================================\n",
      "Omnibus:                        2.683   Durbin-Watson:                   1.964\n",
      "Prob(Omnibus):                  0.261   Jarque-Bera (JB):                2.294\n",
      "Skew:                           0.200   Prob(JB):                        0.318\n",
      "Kurtosis:                       2.523   Cond. No.                     3.03e+10\n",
      "==============================================================================\n",
      "\n",
      "Notes:\n",
      "[1] Standard Errors assume that the covariance matrix of the errors is correctly specified.\n",
      "[2] The condition number is large, 3.03e+10. This might indicate that there are\n",
      "strong multicollinearity or other numerical problems.\n"
     ]
    }
   ],
   "source": [
    "reg4 = smf.ols('breastcancerper100th ~ urbanrate_c + co2emissions_c',data=sub1).fit()\n",
    "print(reg4.summary())"
   ]
  },
  {
   "cell_type": "code",
   "execution_count": 44,
   "id": "46fab5ca",
   "metadata": {},
   "outputs": [
    {
     "name": "stdout",
     "output_type": "stream",
     "text": [
      "                             OLS Regression Results                             \n",
      "================================================================================\n",
      "Dep. Variable:     breastcancerper100th   R-squared:                       0.508\n",
      "Model:                              OLS   Adj. R-squared:                  0.501\n",
      "Method:                   Least Squares   F-statistic:                     71.83\n",
      "Date:                  Wed, 10 Aug 2022   Prob (F-statistic):           3.77e-22\n",
      "Time:                          17:02:32   Log-Likelihood:                -602.31\n",
      "No. Observations:                   142   AIC:                             1211.\n",
      "Df Residuals:                       139   BIC:                             1219.\n",
      "Df Model:                             2                                         \n",
      "Covariance Type:              nonrobust                                         \n",
      "====================================================================================\n",
      "                       coef    std err          t      P>|t|      [0.025      0.975]\n",
      "------------------------------------------------------------------------------------\n",
      "Intercept           38.0148      1.427     26.642      0.000      35.194      40.836\n",
      "urbanrate_c          0.6054      0.069      8.788      0.000       0.469       0.742\n",
      "alcconsumption_c     1.3702      0.300      4.566      0.000       0.777       1.964\n",
      "==============================================================================\n",
      "Omnibus:                        1.266   Durbin-Watson:                   1.942\n",
      "Prob(Omnibus):                  0.531   Jarque-Bera (JB):                1.141\n",
      "Skew:                           0.219   Prob(JB):                        0.565\n",
      "Kurtosis:                       2.974   Cond. No.                         22.2\n",
      "==============================================================================\n",
      "\n",
      "Notes:\n",
      "[1] Standard Errors assume that the covariance matrix of the errors is correctly specified.\n"
     ]
    }
   ],
   "source": [
    "reg5 = smf.ols('breastcancerper100th ~ urbanrate_c + alcconsumption_c',data=sub1).fit()\n",
    "print(reg5.summary())"
   ]
  },
  {
   "cell_type": "markdown",
   "id": "d580f15f",
   "metadata": {},
   "source": [
    "The regression line used here is Y=38.0148+0.6054X1+1.3702X2.The results of linear regression model indicated that urban rate was still significantly and positively associated with breast cancer. Alcoho comsuption was also significantly positive associated with breast cancer. "
   ]
  },
  {
   "cell_type": "markdown",
   "id": "1d37b5f1",
   "metadata": {},
   "source": [
    "Evaluating Model fits\n",
    "Residual Plot: visually evaluate specification error. \n",
    "1. Q-Q plot"
   ]
  },
  {
   "cell_type": "code",
   "execution_count": 48,
   "id": "a7a00474",
   "metadata": {},
   "outputs": [
    {
     "name": "stdout",
     "output_type": "stream",
     "text": [
      "Figure(432x288)\n"
     ]
    },
    {
     "data": {
      "image/png": "[encoded data removed]",
      "text/plain": [
       "<Figure size 432x288 with 1 Axes>"
      ]
     },
     "metadata": {
      "needs_background": "light"
     },
     "output_type": "display_data"
    }
   ],
   "source": [
    "#Q-Q plot for normality \n",
    "#if the residuals in a qq plot follow a straight line, this means that the residuals are normally distributed.\n",
    "\n",
    "fig1 = sm.qqplot(reg5.resid, line='r')\n",
    "print(fig1)"
   ]
  },
  {
   "cell_type": "markdown",
   "id": "85112729",
   "metadata": {},
   "source": [
    "The g-g plot shows that the residuals generally follow a straight line but deviate at the lower quantiles. "
   ]
  },
  {
   "cell_type": "markdown",
   "id": "ee238151",
   "metadata": {},
   "source": [
    "2. Standardized residuals for all observations"
   ]
  },
  {
   "cell_type": "code",
   "execution_count": 51,
   "id": "099adfe6",
   "metadata": {},
   "outputs": [
    {
     "name": "stdout",
     "output_type": "stream",
     "text": [
      "[<matplotlib.lines.Line2D object at 0x00000236ACCD9850>]\n"
     ]
    },
    {
     "data": {
      "image/png": "[encoded data removed]",
      "text/plain": [
       "<Figure size 432x288 with 1 Axes>"
      ]
     },
     "metadata": {
      "needs_background": "light"
     },
     "output_type": "display_data"
    }
   ],
   "source": [
    "#simple plot of residuals\n",
    "\n",
    "stdres = pd.DataFrame(reg5.resid_pearson)\n",
    "fig2 = plt.plot(stdres, 'o', ls='None')\n",
    "l = plt.axhline(y=0, color='r')\n",
    "plt.ylabel('Standardized Residual')\n",
    "plt.xlabel('Observation Number')\n",
    "print(fig2)"
   ]
  },
  {
   "attachments": {},
   "cell_type": "markdown",
   "id": "a633bf67",
   "metadata": {},
   "source": [
    "There are couples of residuals from our observationmore value exceeded an absolute value of 2.5 and more than 5% have an absoluat value of greater than or equal to 2. This suggests that the fit of the model is relatively poor and could be improved."
   ]
  },
  {
   "cell_type": "markdown",
   "id": "3dc166c5",
   "metadata": {},
   "source": [
    "3. Leverage plot"
   ]
  },
  {
   "cell_type": "code",
   "execution_count": 52,
   "id": "46b2d84f",
   "metadata": {
    "scrolled": true
   },
   "outputs": [
    {
     "name": "stdout",
     "output_type": "stream",
     "text": [
      "Figure(432x288)\n"
     ]
    },
    {
     "data": {
      "image/png": "[encoded data removed]",
      "text/plain": [
       "<Figure size 432x288 with 1 Axes>"
      ]
     },
     "metadata": {
      "needs_background": "light"
     },
     "output_type": "display_data"
    }
   ],
   "source": [
    "fig3 = sm.graphics.influence_plot(reg3, size=8)\n",
    "print(fig3)"
   ]
  },
  {
   "attachments": {},
   "cell_type": "markdown",
   "id": "f6f7aa55",
   "metadata": {},
   "source": [
    "According to the Leverage plot, we can see that we havve a few outliers, contents that have residuals greater than 2 or less than -2. This plot also tells us that these outliers have small or close to zero leverage values, meaning that although they are outlying observations, they do not have an undue influence on the estimation of the regression model. On the other hand, there are a few cases with higher than average leverage. However, these observations have a high leverage but are not outliers."
   ]
  },
  {
   "cell_type": "markdown",
   "id": "83c85ea7",
   "metadata": {},
   "source": [
    "The regression line used here is Y=38.0148+0.6054X1+1.3702X2.The results of linear regression model indicated that urban rate was still significantly and positively associated with breast cancer. Alcohol comsuption was also significantly positive associated with breast cancer. "
   ]
  }
 ],
 "metadata": {
  "kernelspec": {
   "display_name": "Python 3 (ipykernel)",
   "language": "python",
   "name": "python3"
  },
  "language_info": {
   "codemirror_mode": {
    "name": "ipython",
    "version": 3
   },
   "file_extension": ".py",
   "mimetype": "text/x-python",
   "name": "python",
   "nbconvert_exporter": "python",
   "pygments_lexer": "ipython3",
   "version": "3.9.12"
  }
 },
 "nbformat": 4,
 "nbformat_minor": 5
}
